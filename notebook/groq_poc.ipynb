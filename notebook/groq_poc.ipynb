{
 "cells": [
  {
   "cell_type": "code",
   "execution_count": 1,
   "id": "82609645-8386-4a8d-a18e-ee149bb0f80f",
   "metadata": {},
   "outputs": [],
   "source": [
    "from langchain_groq import ChatGroq"
   ]
  },
  {
   "cell_type": "code",
   "execution_count": 5,
   "id": "3f973d99-0e5b-4f27-bac7-0d31534215a1",
   "metadata": {},
   "outputs": [
    {
     "data": {
      "text/plain": [
       "True"
      ]
     },
     "execution_count": 5,
     "metadata": {},
     "output_type": "execute_result"
    }
   ],
   "source": [
    "from dotenv import load_dotenv\n",
    "import os\n",
    "load_dotenv()"
   ]
  },
  {
   "cell_type": "code",
   "execution_count": 7,
   "id": "8bc42a10-b9c0-4818-bcd0-8bf5bcdde0cb",
   "metadata": {},
   "outputs": [],
   "source": [
    "groq_api=os.getenv(\"groq_api_key\")"
   ]
  },
  {
   "cell_type": "code",
   "execution_count": 11,
   "id": "11c3d2cb-392f-4dd3-afde-28f7d3821238",
   "metadata": {},
   "outputs": [],
   "source": [
    "llm = ChatGroq(\n",
    "    temperature=0,\n",
    "    groq_api_key=groq_api,\n",
    "    model_name=\"llama-3.1-8b-instant\"\n",
    ")"
   ]
  },
  {
   "cell_type": "code",
   "execution_count": 12,
   "id": "28592d3b-e34b-4306-9436-3bfe788713c3",
   "metadata": {},
   "outputs": [],
   "source": [
    "res = llm.invoke(\"How many states in india and which is financial capital?\")"
   ]
  },
  {
   "cell_type": "code",
   "execution_count": 13,
   "id": "0f8c4099-c129-47f0-a376-b839613faccd",
   "metadata": {},
   "outputs": [
    {
     "name": "stdout",
     "output_type": "stream",
     "text": [
      "content='India is a federal union of 28 states and 8 union territories. \\n\\nThe financial capital of India is Mumbai (also known as Bombay), which is located in the state of Maharashtra.' response_metadata={'token_usage': {'completion_tokens': 39, 'prompt_tokens': 46, 'total_tokens': 85, 'completion_time': 0.052, 'prompt_time': 0.002359133, 'queue_time': 0.641976019, 'total_time': 0.054359133}, 'model_name': 'llama-3.1-8b-instant', 'system_fingerprint': 'fp_f7bd09b454', 'finish_reason': 'stop', 'logprobs': None} id='run-fbfea5d9-6289-4f88-9da6-d4a6fda34c03-0' usage_metadata={'input_tokens': 46, 'output_tokens': 39, 'total_tokens': 85}\n"
     ]
    }
   ],
   "source": [
    "print(res)"
   ]
  },
  {
   "cell_type": "code",
   "execution_count": 15,
   "id": "7e045095-49fb-4ff2-ac22-40b150364171",
   "metadata": {},
   "outputs": [
    {
     "name": "stdout",
     "output_type": "stream",
     "text": [
      "India is a federal union of 28 states and 8 union territories. \n",
      "\n",
      "The financial capital of India is Mumbai (also known as Bombay), which is located in the state of Maharashtra.\n"
     ]
    }
   ],
   "source": [
    "print(res.content)"
   ]
  }
 ],
 "metadata": {
  "kernelspec": {
   "display_name": "Python 3 (ipykernel)",
   "language": "python",
   "name": "python3"
  },
  "language_info": {
   "codemirror_mode": {
    "name": "ipython",
    "version": 3
   },
   "file_extension": ".py",
   "mimetype": "text/x-python",
   "name": "python",
   "nbconvert_exporter": "python",
   "pygments_lexer": "ipython3",
   "version": "3.11.9"
  }
 },
 "nbformat": 4,
 "nbformat_minor": 5
}
